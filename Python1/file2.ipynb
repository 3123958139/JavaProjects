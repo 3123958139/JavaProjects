{
 "cells": [
  {
   "cell_type": "code",
   "execution_count": 1,
   "metadata": {
    "collapsed": true
   },
   "outputs": [],
   "source": [
    "import pandas as pd\n",
    "import numpy as np\n"
   ]
  },
  {
   "cell_type": "code",
   "execution_count": 2,
   "metadata": {
    "collapsed": false
   },
   "outputs": [],
   "source": [
    "df = pd.read_csv('D:\\\\Program Files\\\\eclipse-cpp-oxygen-3a-win32-x86_64\\\\tmp\\\\JavaProjects\\Python1\\\\file2_pics\\\\file2.csv')"
   ]
  },
  {
   "cell_type": "code",
   "execution_count": 3,
   "metadata": {
    "collapsed": false
   },
   "outputs": [
    {
     "name": "stdout",
     "output_type": "stream",
     "text": [
      "0    10.02\n",
      "1    10.06\n",
      "2    10.37\n",
      "3    10.20\n",
      "4    10.16\n",
      "Name: open, dtype: float64\n"
     ]
    }
   ],
   "source": [
    "open = df['open']\n",
    "print(open[:5])"
   ]
  },
  {
   "cell_type": "code",
   "execution_count": 14,
   "metadata": {
    "collapsed": false
   },
   "outputs": [
    {
     "name": "stdout",
     "output_type": "stream",
     "text": [
      "-0.0016875000000000002\n"
     ]
    }
   ],
   "source": [
    "rate=(open.values[-1]-open.values[0])/(open.index.values[-1]-open.index.values[0])\n",
    "print(rate)"
   ]
  },
  {
   "cell_type": "code",
   "execution_count": 8,
   "metadata": {
    "collapsed": false
   },
   "outputs": [
    {
     "name": "stdout",
     "output_type": "stream",
     "text": [
      "0         NaN\n",
      "1    2.304583\n",
      "2    2.308567\n",
      "3    2.338917\n",
      "4    2.322388\n",
      "Name: open, dtype: float64 0    2.304583\n",
      "1    2.308567\n",
      "2    2.338917\n",
      "3    2.322388\n",
      "4    2.318458\n",
      "Name: open, dtype: float64 0         NaN\n",
      "1   -0.003984\n",
      "2   -0.030350\n",
      "3    0.016529\n",
      "4    0.003929\n",
      "Name: open, dtype: float64\n"
     ]
    }
   ],
   "source": [
    "t=open.map(lambda x:np.log(x)).shift(1)-open.map(lambda x:np.log(x))\n",
    "print(open.map(lambda x:np.log(x)).shift(1)[:5],open.map(lambda x:np.log(x))[:5],t[:5])"
   ]
  },
  {
   "cell_type": "code",
   "execution_count": null,
   "metadata": {
    "collapsed": true
   },
   "outputs": [],
   "source": []
  }
 ],
 "metadata": {
  "kernelspec": {
   "display_name": "Python 3",
   "language": "python",
   "name": "python3"
  },
  "language_info": {
   "codemirror_mode": {
    "name": "ipython",
    "version": 3
   },
   "file_extension": ".py",
   "mimetype": "text/x-python",
   "name": "python",
   "nbconvert_exporter": "python",
   "pygments_lexer": "ipython3",
   "version": "3.6.0"
  }
 },
 "nbformat": 4,
 "nbformat_minor": 2
}
